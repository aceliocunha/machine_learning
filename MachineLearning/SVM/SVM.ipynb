{
 "cells": [
  {
   "cell_type": "code",
   "execution_count": 1,
   "metadata": {
    "id": "a_ksYTMQo5Nq"
   },
   "outputs": [],
   "source": [
    "import numpy as np\n",
    "from scipy.optimize import minimize\n",
    "import pandas as pd\n",
    "import matplotlib.pyplot as plt\n",
    "from sklearn.preprocessing import StandardScaler\n",
    "from sklearn.model_selection import train_test_split\n",
    "from sklearn.metrics import accuracy_score, classification_report\n",
    "from sklearn.datasets import load_breast_cancer"
   ]
  },
  {
   "cell_type": "markdown",
   "metadata": {
    "id": "lN42_W4G2wKY"
   },
   "source": [
    "# SVM com minimize scipy.optimize"
   ]
  },
  {
   "cell_type": "code",
   "execution_count": 2,
   "metadata": {
    "id": "fVBduZs_pMn_"
   },
   "outputs": [],
   "source": [
    "class SVML:\n",
    "\n",
    "    def __init__(self, C):\n",
    "        self.C = C\n",
    "        self.alpha = None\n",
    "        self.w = None\n",
    "        self.b = None\n",
    "\n",
    "    def svm_fit(self, X, y, C=1.0):\n",
    "        n_samples, n_features = X.shape\n",
    "        K = np.dot(X, X.T)\n",
    "        P = np.outer(y, y)*K\n",
    "        constraints = [{'type': 'eq', 'fun': lambda alpha: np.dot(alpha, y)}]\n",
    "        def objective(alpha):\n",
    "            return 0.5 * np.dot(alpha, np.dot(P, alpha)) - np.sum(alpha)\n",
    "        result = minimize(objective, np.zeros(n_samples), bounds=[(0, self.C) for _ in range(n_samples)], constraints=constraints)\n",
    "        alpha = result.x\n",
    "        return alpha\n",
    "\n",
    "    def wb(self, X, y, alpha):\n",
    "\n",
    "        w = np.dot(alpha*y, X)\n",
    "        sv_idx = np.where((alpha > 0) & (alpha < self.C))[0]\n",
    "        b = np.mean(y[sv_idx] - np.dot(X[sv_idx], w))\n",
    "\n",
    "        return w, b\n",
    "\n",
    "\n",
    "\n",
    "accuracy = lambda y_pred, y_true: (y_pred == y_true).sum()/(y_pred == y_true).shape[0]"
   ]
  },
  {
   "cell_type": "code",
   "execution_count": 3,
   "metadata": {
    "id": "8MW5TDCcwOtD"
   },
   "outputs": [],
   "source": [
    "data = load_breast_cancer()\n",
    "X, y = data.data, data.target\n",
    "from sklearn.preprocessing import StandardScaler\n",
    "scaler = StandardScaler().fit(X)\n",
    "X = scaler.transform(X)"
   ]
  },
  {
   "cell_type": "code",
   "execution_count": 4,
   "metadata": {
    "id": "liAUDDt9xnj8"
   },
   "outputs": [],
   "source": [
    "X_train, X_test, y_train, y_test = train_test_split(X, y, test_size=0.30, stratify=y)\n",
    "y_train[y_train == 0] = -1\n",
    "y_test[y_test == 0] = -1"
   ]
  },
  {
   "cell_type": "code",
   "execution_count": 5,
   "metadata": {
    "colab": {
     "base_uri": "https://localhost:8080/"
    },
    "id": "U7AYRZzIwHQj",
    "outputId": "f6d671ec-1675-4cf3-ce0a-1a084a894391"
   },
   "outputs": [
    {
     "name": "stdout",
     "output_type": "stream",
     "text": [
      "0.9590643274853801\n"
     ]
    }
   ],
   "source": [
    "svm = SVML(C=1.0)\n",
    "alphas= svm.svm_fit(X_train, y_train)\n",
    "w, b = svm.wb(X_train, y_train, alphas)\n",
    "y_pred = np.sign(X_test.dot(w) + b)\n",
    "score = accuracy(y_test, y_pred)\n",
    "print(score)"
   ]
  },
  {
   "cell_type": "code",
   "execution_count": 6,
   "metadata": {
    "colab": {
     "base_uri": "https://localhost:8080/"
    },
    "id": "wh26opi6BGGN",
    "outputId": "b7242ac0-0819-4635-9119-d4abddb453c0"
   },
   "outputs": [
    {
     "name": "stdout",
     "output_type": "stream",
     "text": [
      "              precision    recall  f1-score   support\n",
      "\n",
      "          -1       1.00      0.89      0.94        64\n",
      "           1       0.94      1.00      0.97       107\n",
      "\n",
      "    accuracy                           0.96       171\n",
      "   macro avg       0.97      0.95      0.96       171\n",
      "weighted avg       0.96      0.96      0.96       171\n",
      "\n"
     ]
    }
   ],
   "source": [
    "print(classification_report(y_test, y_pred))"
   ]
  },
  {
   "cell_type": "markdown",
   "metadata": {
    "id": "yjYpDYRBEGhE"
   },
   "source": [
    "# **Kernel**"
   ]
  },
  {
   "cell_type": "code",
   "execution_count": 7,
   "metadata": {
    "id": "itIVmjr6pZuW"
   },
   "outputs": [],
   "source": [
    "def rbf(X1, X2, gamma=None):\n",
    "    if gamma is None:\n",
    "        gamma = 2 / X1.shape[-1]\n",
    "\n",
    "    if np.ndim(X1) == 1 and np.ndim(X2) == 1:\n",
    "        result = np.exp(-gamma * np.linalg.norm(X1 - X2)**2)\n",
    "    elif (np.ndim(X1) > 1 and np.ndim(X2) == 1) or (np.ndim(X1) == 1 and np.ndim(X2) > 1):\n",
    "        result = np.exp(-gamma * np.linalg.norm(X1 - X2, axis=1)**2)\n",
    "    elif np.ndim(X1) > 1 and np.ndim(X2) > 1:\n",
    "        result = np.exp(-gamma * np.linalg.norm(X1[:, np.newaxis] - X2[np.newaxis, :], axis=2)**2)\n",
    "    return result"
   ]
  },
  {
   "cell_type": "markdown",
   "metadata": {
    "id": "MLg_AU5HEKz3"
   },
   "source": [
    "SVM GRADIENTE"
   ]
  },
  {
   "cell_type": "code",
   "execution_count": 8,
   "metadata": {
    "id": "6fJvwzrpsRiz"
   },
   "outputs": [],
   "source": [
    "def f_objective(alphas, p):\n",
    "    f = np.sum(alphas) - 1/2*( np.sum(p * np.outer(alphas, alphas)))\n",
    "    return f\n",
    "\n",
    "def svm_fit(X, y, kernel, C=1.0, lr=1e-6, n_iters=300):\n",
    "    n = X.shape[0]\n",
    "    alphas = np.random.random(n)\n",
    "    b = 0\n",
    "    K = kernel(X, X)\n",
    "    p = np.outer(y, y)*K\n",
    "\n",
    "    for _ in range(n_iters):\n",
    "        loss = f_objective(alphas, p)\n",
    "        grad = np.ones(n) - p.dot(alphas)\n",
    "        alphas += lr*grad\n",
    "\n",
    "        alphas[alphas < 0] = 0\n",
    "        alphas[alphas > C] = C\n",
    "\n",
    "    id = np.where((alphas) > 0 & (alphas < C))[0]\n",
    "\n",
    "    b = np.mean(y[id] - (alphas*y).dot(kernel(X, X[id])))\n",
    "\n",
    "    return alphas, b"
   ]
  },
  {
   "cell_type": "code",
   "execution_count": 9,
   "metadata": {
    "colab": {
     "base_uri": "https://localhost:8080/"
    },
    "id": "lZcAqvTrtv9R",
    "outputId": "f9545200-dc7e-419e-e405-fef5f6eb50cf"
   },
   "outputs": [
    {
     "data": {
      "text/plain": [
       "0.9824561403508771"
      ]
     },
     "execution_count": 9,
     "metadata": {},
     "output_type": "execute_result"
    }
   ],
   "source": [
    "def svm_predict(X, X_train, y_train, alphas, b, kernel):\n",
    "    decision = (alphas*y_train).dot(kernel(X_train, X)) + b\n",
    "\n",
    "    return np.sign(decision)\n",
    "\n",
    "alphas, b = svm_fit(X_train, y_train, rbf, C=1.0, lr=1e-3, n_iters=200)\n",
    "y_p = svm_predict(X_test, X_train, y_train, alphas, b, rbf)\n",
    "y_test = y_test.astype(float)\n",
    "np.mean(y_test == y_p)"
   ]
  },
  {
   "cell_type": "code",
   "execution_count": 10,
   "metadata": {
    "colab": {
     "base_uri": "https://localhost:8080/"
    },
    "id": "EVVaHmVu9S7Z",
    "outputId": "e4c876e6-5292-4d98-b689-50d275fc733f"
   },
   "outputs": [
    {
     "name": "stdout",
     "output_type": "stream",
     "text": [
      "              precision    recall  f1-score   support\n",
      "\n",
      "        -1.0       1.00      0.95      0.98        64\n",
      "         1.0       0.97      1.00      0.99       107\n",
      "\n",
      "    accuracy                           0.98       171\n",
      "   macro avg       0.99      0.98      0.98       171\n",
      "weighted avg       0.98      0.98      0.98       171\n",
      "\n"
     ]
    }
   ],
   "source": [
    "print(classification_report(y_test, y_p))"
   ]
  },
  {
   "cell_type": "code",
   "execution_count": null,
   "metadata": {
    "id": "ro4uLu1OIRPq"
   },
   "outputs": [],
   "source": []
  }
 ],
 "metadata": {
  "colab": {
   "authorship_tag": "ABX9TyM1nO5+owgFqY3ttzRq0bLR",
   "provenance": []
  },
  "kernelspec": {
   "display_name": "Python 3 (ipykernel)",
   "language": "python",
   "name": "python3"
  },
  "language_info": {
   "codemirror_mode": {
    "name": "ipython",
    "version": 3
   },
   "file_extension": ".py",
   "mimetype": "text/x-python",
   "name": "python",
   "nbconvert_exporter": "python",
   "pygments_lexer": "ipython3",
   "version": "3.12.3"
  }
 },
 "nbformat": 4,
 "nbformat_minor": 4
}
