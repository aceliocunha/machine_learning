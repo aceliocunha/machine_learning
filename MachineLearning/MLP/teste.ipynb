{
 "cells": [
  {
   "cell_type": "code",
   "execution_count": 1,
   "id": "684c6db9-274a-4987-97d7-abcaab995197",
   "metadata": {},
   "outputs": [],
   "source": [
    "import numpy as np\n",
    "import pandas as pd\n",
    "from sklearn import datasets\n",
    "from mlp import MLP\n",
    "from sklearn.model_selection import KFold, train_test_split\n",
    "from sklearn.metrics import accuracy_score, precision_score, recall_score\n",
    "from sklearn.metrics import accuracy_score\n",
    "import time"
   ]
  },
  {
   "cell_type": "code",
   "execution_count": 3,
   "id": "2e7deee6-e7b3-4b49-a9b6-487f33c55747",
   "metadata": {},
   "outputs": [],
   "source": [
    "from sklearn.datasets import load_breast_cancer\n",
    "data = load_breast_cancer()\n",
    "X, y = data.data, data.target"
   ]
  },
  {
   "cell_type": "code",
   "execution_count": 4,
   "id": "0ec9cb9f-12b1-4ace-a1de-af8739185bc0",
   "metadata": {},
   "outputs": [],
   "source": [
    "y[y=='malignant'] = -1.0\n",
    "y[y=='benign'] = 1.0"
   ]
  },
  {
   "cell_type": "code",
   "execution_count": 5,
   "id": "486d7fbc-93c0-4290-b5e8-c77c062bd87e",
   "metadata": {},
   "outputs": [],
   "source": [
    "y = y.astype(np.float64)"
   ]
  },
  {
   "cell_type": "code",
   "execution_count": 6,
   "id": "1acd8a70-2891-4353-8163-48e4f71f1af9",
   "metadata": {},
   "outputs": [],
   "source": [
    "def compute_metrics(y_true, y_pred):\n",
    "    acc = accuracy_score(y_true, y_pred)\n",
    "    prec = precision_score(y_true, y_pred, average=\"weighted\", zero_division=0)\n",
    "    rec = recall_score(y_true, y_pred, average=\"weighted\", zero_division=0)\n",
    "    return acc, prec, rec\n",
    "\n",
    "def normaliza(X_train, X_test):\n",
    "    from sklearn.preprocessing import StandardScaler\n",
    "    stdsc = StandardScaler()\n",
    "    X_train_std = stdsc.fit_transform(X_train)\n",
    "    X_test_std = stdsc.transform(X_test)\n",
    "\n",
    "    return X_train_std, X_test_std"
   ]
  },
  {
   "cell_type": "code",
   "execution_count": 7,
   "id": "6450d23d-52a7-4f09-8998-df524b7e9303",
   "metadata": {},
   "outputs": [
    {
     "name": "stdout",
     "output_type": "stream",
     "text": [
      "Melhores parâmetros: {'learning_rate': 0.1, 'epochs': 100}\n",
      "Média do tempo de execução: 0.019413089752197264\n",
      "Desvio padrão do tempo: 0.0035716327676802587\n",
      "Tempo total de execução: 0.19413089752197266\n",
      "           acc  precision    recall     tempo\n",
      "mean  0.963830   0.964363  0.963830  0.019413\n",
      "std   0.011973   0.011622  0.011973  0.003765\n"
     ]
    }
   ],
   "source": [
    "kf = KFold(n_splits=5)\n",
    "param_grid = {'learning_rate': [0.0001, 0.001, 0.01, 0.1], 'epochs': [100, 500, 1000]}\n",
    "best_accuracy = 0.0\n",
    "best_params = {}\n",
    "\n",
    "acuracy_total = []\n",
    "recall_total = []\n",
    "precision_total = []\n",
    "tempo_total = []\n",
    "\n",
    "for v in range(10):\n",
    "    X_train, X_test, y_train, y_test = train_test_split(X, y, test_size=0.33, stratify=y, random_state=v)\n",
    "    X_train, X_test = normaliza(X_train, X_test)\n",
    "    for lr in param_grid['learning_rate']:\n",
    "        for epochs in param_grid['epochs']:\n",
    "            avg_accuracy = 0.0\n",
    "    \n",
    "            for train_index, val_index in kf.split(X_train):\n",
    "                X_train_fold, X_val_fold = X_train[train_index], X_train[val_index]\n",
    "                y_train_fold, y_val_fold = y_train[train_index], y_train[val_index]\n",
    "                \n",
    "                model = MLP(input_size=X.shape[1], hidden_size=10, output_size=1, learning_rate=lr, epochs=epochs)\n",
    "                model.fit(X_train_fold, y_train_fold)\n",
    "                y_pred = model.predict(X_val_fold)\n",
    "                fold_accuracy = accuracy_score(y_val_fold, y_pred)\n",
    "                avg_accuracy += fold_accuracy\n",
    "\n",
    "            avg_accuracy /= kf.get_n_splits()\n",
    "\n",
    "            if avg_accuracy > best_accuracy:\n",
    "                best_accuracy = avg_accuracy\n",
    "                best_params = {'learning_rate': lr, 'epochs': epochs}\n",
    "\n",
    "    start_time = time.time()\n",
    "    model = MLP(input_size=X.shape[1], hidden_size=10, output_size=1, learning_rate=best_params['learning_rate'], epochs=best_params['epochs'])\n",
    "    model.fit(X_train, y_train)\n",
    "    y_pred_test = model.predict(X_test)\n",
    "\n",
    "    acc, prec, rec = compute_metrics(y_test, y_pred_test)\n",
    "    acuracy_total.append(acc)\n",
    "    precision_total.append(prec)\n",
    "    recall_total.append(rec)\n",
    "\n",
    "    end_time = time.time()\n",
    "    tempo_total.append(end_time - start_time)\n",
    "\n",
    "print(\"Melhores parâmetros:\", best_params)\n",
    "print(\"Média do tempo de execução:\", np.mean(tempo_total))\n",
    "print(\"Desvio padrão do tempo:\", np.std(tempo_total))\n",
    "print(\"Tempo total de execução:\", sum(tempo_total))\n",
    "\n",
    "import pandas as pd\n",
    "df_results = pd.DataFrame({\n",
    "    \"acc\": acuracy_total,\n",
    "    \"precision\": precision_total,\n",
    "    \"recall\": recall_total,\n",
    "    \"tempo\": tempo_total\n",
    "})\n",
    "print(df_results.aggregate({'acc': ['mean', 'std'], 'precision': ['mean', 'std'], 'recall': ['mean', 'std'], 'tempo': ['mean', 'std']}))"
   ]
  }
 ],
 "metadata": {
  "kernelspec": {
   "display_name": "Python 3 (ipykernel)",
   "language": "python",
   "name": "python3"
  },
  "language_info": {
   "codemirror_mode": {
    "name": "ipython",
    "version": 3
   },
   "file_extension": ".py",
   "mimetype": "text/x-python",
   "name": "python",
   "nbconvert_exporter": "python",
   "pygments_lexer": "ipython3",
   "version": "3.12.3"
  }
 },
 "nbformat": 4,
 "nbformat_minor": 5
}
