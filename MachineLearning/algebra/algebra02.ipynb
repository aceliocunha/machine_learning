{
  "nbformat": 4,
  "nbformat_minor": 0,
  "metadata": {
    "colab": {
      "provenance": [],
      "authorship_tag": "ABX9TyP8t4vlJlPj9OJkjZbrUvlV"
    },
    "kernelspec": {
      "name": "python3",
      "display_name": "Python 3"
    },
    "language_info": {
      "name": "python"
    }
  },
  "cells": [
    {
      "cell_type": "code",
      "execution_count": 2,
      "metadata": {
        "id": "V-lVGKAc5MuX"
      },
      "outputs": [],
      "source": [
        "import numpy as np\n",
        "import scipy as sp\n",
        "import matplotlib.pyplot as plt"
      ]
    },
    {
      "cell_type": "markdown",
      "source": [
        "$d_i = x_{i+1} - x_i, \\quad \\text{para } i = 1, \\ldots, n-1$\n"
      ],
      "metadata": {
        "id": "k84UunHh_IAE"
      }
    },
    {
      "cell_type": "code",
      "source": [
        "def dif_iniciais(x):\n",
        "  '''Aqui empregamos o método de fatiamento para formar um vetor\n",
        "  d de tamanho (n - 1) para fazer vetor de diferenças iniciais.'''\n",
        "  d = x[1:] - x[:-1]\n",
        "  return d"
      ],
      "metadata": {
        "id": "sBIdfXQ2_rSK"
      },
      "execution_count": 7,
      "outputs": []
    },
    {
      "cell_type": "code",
      "source": [
        "x = np.array([1,8,3,2,1,9,7])\n",
        "dif_iniciais(x)"
      ],
      "metadata": {
        "colab": {
          "base_uri": "https://localhost:8080/"
        },
        "id": "_UGmEf3qA-kT",
        "outputId": "bd9508bb-6731-40b5-bad6-05708f4acfc2"
      },
      "execution_count": 9,
      "outputs": [
        {
          "output_type": "execute_result",
          "data": {
            "text/plain": [
              "array([ 7, -5, -1, -1,  8, -2])"
            ]
          },
          "metadata": {},
          "execution_count": 9
        }
      ]
    },
    {
      "cell_type": "markdown",
      "source": [
        "Multiplicação e divisão entre um escalar e um vetor. Se tivermos um escalar a e um vetor x, que é um array do NumPy, é possível expressar a multiplicação escalar-vetor usando tanto a*x como x*a. Igualmente, a divisão de um vetor por um escalar pode ser efetuada utilizando x/a."
      ],
      "metadata": {
        "id": "QZrbbi1yCNnt"
      }
    },
    {
      "cell_type": "code",
      "source": [
        "x = np.array([2,3,4,5])\n",
        "print('x=',3.3*x)\n",
        "print('x=',x/3.3)"
      ],
      "metadata": {
        "colab": {
          "base_uri": "https://localhost:8080/"
        },
        "id": "zi6bw_Yv66zm",
        "outputId": "2da6f015-0526-453f-805b-a669ed870898"
      },
      "execution_count": 13,
      "outputs": [
        {
          "output_type": "stream",
          "name": "stdout",
          "text": [
            "x= [ 6.6  9.9 13.2 16.5]\n",
            "x= [0.60606061 0.90909091 1.21212121 1.51515152]\n"
          ]
        }
      ]
    },
    {
      "cell_type": "code",
      "source": [],
      "metadata": {
        "id": "scxR4lxYEi8V"
      },
      "execution_count": null,
      "outputs": []
    },
    {
      "cell_type": "markdown",
      "source": [
        "Operações Elemento a Elemento. No Python, é possível realizar operações elemento a elemento em arrays do NumPy. Considerando dois arrays do NumPy, ( x ) e ( y ), com o mesmo comprimento, as expressões $( x \\times y )$, $( \\frac{x}{y})$, e $( x^y )$ produzem vetores. Esses vetores resultantes têm o mesmo tamanho que $( x ) e ( y )$. Além disso, o elemento na posição \\( i \\) de cada vetor resultante é dado por $( x_i y_i )$ para a multiplicação, $( \\frac{x_i}{y_i} )$ para a divisão, e$ ( x_i^{y_i} )$ para a exponenciação, respectivamente.\n",
        "Como exemplo prático da divisão elemento a elemento, vamos calcular o vetor de retornos de 3 ativos financeiros, ( r ), a partir dos arrays do NumPy que representam os preços iniciais e finais desses ativos.\n",
        "\n",
        "\n",
        "$retorno= \\frac{p_f- ​p_i}{p_i}$\n"
      ],
      "metadata": {
        "id": "A8vQwdrfEUS6"
      }
    },
    {
      "cell_type": "code",
      "source": [
        "# Preços iniciais dos ativos\n",
        "p_i = np.array([22.15, 89.32, 56.77])\n",
        "# Preços finais dos ativos\n",
        "p_f = np.array([23.05, 87.32, 53.13])\n",
        "\n",
        "def retorn(pi, pf):\n",
        "\n",
        " return (pf - pi)/pi\n",
        "print(retorn(p_i, p_f))"
      ],
      "metadata": {
        "colab": {
          "base_uri": "https://localhost:8080/"
        },
        "id": "bhvjxioKDSd7",
        "outputId": "4f7c229d-894e-4a98-83b0-8f2d57b4f80a"
      },
      "execution_count": 15,
      "outputs": [
        {
          "output_type": "stream",
          "name": "stdout",
          "text": [
            "[ 0.04063205 -0.0223914  -0.06411837]\n"
          ]
        }
      ]
    },
    {
      "cell_type": "markdown",
      "source": [
        "A norma de um vetor é uma medida fundamental na matemática e na física, representando o \"tamanho\" ou \"comprimento\" desse vetor. No contexto da álgebra linear, a norma mais comumente usada é a norma Euclidiana, também conhecida como norma L2. Dado um vetor $( \\mathbf{v} )$ no espaço euclidiano $( \\mathbb{R}^n)$ com componentes $( v_1, v_2, \\ldots, v_n )$, a norma Euclidiana é definida como:\n",
        "\n",
        "$\n",
        "\\| \\mathbf{v} \\|_2 = \\sqrt{v_1^2 + v_2^2 + \\cdots + v_n^2}\n",
        "$\n",
        "\n",
        "Esta é essencialmente a generalização do Teorema de Pitágoras para um espaço de n dimensões. A norma fornece uma maneira de calcular a distância de um vetor até a origem do espaço vetorial. Além da norma Euclidiana, existem a norma L1 (conhecida como norma de Manhattan)."
      ],
      "metadata": {
        "id": "8LDZGq89_RFu"
      }
    },
    {
      "cell_type": "code",
      "source": [
        "v = np.linalg.norm(np.array([0.6, 0.8]))\n",
        "print(v)"
      ],
      "metadata": {
        "colab": {
          "base_uri": "https://localhost:8080/"
        },
        "id": "5d2D_2r9IWYI",
        "outputId": "8bd16f82-e12e-4fbf-a0fc-13b2955948b6"
      },
      "execution_count": 16,
      "outputs": [
        {
          "output_type": "stream",
          "name": "stdout",
          "text": [
            "1.0\n"
          ]
        }
      ]
    },
    {
      "cell_type": "code",
      "source": [
        "# Exemplo com vetores grandes\n",
        "# vetor aleatório de tamanho 1000\n",
        "v1 = np.random.rand(1000)\n",
        "v2 = np.random.rand(1000)\n",
        "\n",
        "norm_v1 = np.linalg.norm(v1)\n",
        "norm_v2 = np.linalg.norm(v2)\n",
        "\n",
        "print(\"Norma de v1:\", norm_v1)\n",
        "print(\"Norma de v2:\", norm_v2)"
      ],
      "metadata": {
        "colab": {
          "base_uri": "https://localhost:8080/"
        },
        "id": "CD2FJXV7JIlL",
        "outputId": "68459f1c-051d-40f9-f40c-a008a15e7af6"
      },
      "execution_count": 17,
      "outputs": [
        {
          "output_type": "stream",
          "name": "stdout",
          "text": [
            "Norma de v1: 18.197312543386314\n",
            "Norma de v2: 18.3955413272438\n"
          ]
        }
      ]
    },
    {
      "cell_type": "code",
      "source": [
        "v1 = np.array([1, 2, 3])\n",
        "v2 = np.array([4, 5, 6])\n",
        "\n",
        "# Calculando as normas separadamente\n",
        "norm_v1 = np.linalg.norm(v1)\n",
        "norm_v2 = np.linalg.norm(v2)\n",
        "\n",
        "# Calculando a norma da matriz [v1, v2]\n",
        "# Norma da matriz composta por v1 e v2\n",
        "norm_combined = np.linalg.norm([v1, v2])\n",
        "\n",
        "print(\"Norma de v1:\", norm_v1)\n",
        "print(\"Norma de v2:\", norm_v2)\n",
        "print(\"Norma combinada:\", norm_combined)"
      ],
      "metadata": {
        "colab": {
          "base_uri": "https://localhost:8080/"
        },
        "id": "0oeUdf3zJ0e9",
        "outputId": "8c1257be-3818-4149-9239-074d55f35a0c"
      },
      "execution_count": 18,
      "outputs": [
        {
          "output_type": "stream",
          "name": "stdout",
          "text": [
            "Norma de v1: 3.7416573867739413\n",
            "Norma de v2: 8.774964387392123\n",
            "Norma combinada: 9.539392014169456\n"
          ]
        }
      ]
    },
    {
      "cell_type": "code",
      "source": [
        ""
      ],
      "metadata": {
        "id": "TdE418zBKkXd"
      },
      "execution_count": null,
      "outputs": []
    }
  ]
}