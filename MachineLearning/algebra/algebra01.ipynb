{
 "cells": [
  {
   "cell_type": "code",
   "execution_count": 1,
   "id": "74671750-2729-42a1-aef1-20a2df1513d5",
   "metadata": {},
   "outputs": [],
   "source": [
    "import numpy as np\n",
    "import pandas as pd\n",
    "import matplotlib.pyplot as plt"
   ]
  },
  {
   "cell_type": "code",
   "execution_count": 2,
   "id": "0939c2fb-8952-4f69-81e9-3f9e6bbed5a7",
   "metadata": {},
   "outputs": [],
   "source": [
    "#produto interno\n",
    "u = np.array([2, -4, 1])\n",
    "v = np.array([3, 2,-5])"
   ]
  },
  {
   "cell_type": "code",
   "execution_count": 3,
   "id": "ed011ab3-e570-4507-8e4c-f0ba71a17fc7",
   "metadata": {},
   "outputs": [],
   "source": [
    "def produto_interno(u, v):\n",
    "    return sum(map(lambda i, j:i*j, u, v))"
   ]
  },
  {
   "cell_type": "code",
   "execution_count": 4,
   "id": "5adadff3-72e1-47eb-be5f-d5e0879d1c25",
   "metadata": {},
   "outputs": [
    {
     "data": {
      "text/plain": [
       "-7"
      ]
     },
     "execution_count": 4,
     "metadata": {},
     "output_type": "execute_result"
    }
   ],
   "source": [
    "produto_interno(u, v)"
   ]
  },
  {
   "cell_type": "code",
   "execution_count": 5,
   "id": "f5167f57-190e-4807-b018-f35e5dbe2ea1",
   "metadata": {},
   "outputs": [],
   "source": [
    "u = np.array([1, -2, 1])\n",
    "v = np.array([3, 2,-5])"
   ]
  },
  {
   "cell_type": "code",
   "execution_count": 6,
   "id": "8993e7e5-f62f-45ec-980e-f82d69d2c26d",
   "metadata": {},
   "outputs": [],
   "source": [
    "#Distância\n",
    "def dist(u, v):\n",
    "    d = np.sum(list(map(lambda i, j: (i - j)**2, u, v)))\n",
    "    return print('A distância entre os vetores é igual a ', np.around(np.sqrt(d), 2))"
   ]
  },
  {
   "cell_type": "code",
   "execution_count": 7,
   "id": "0119dd89-9d18-4e1f-9106-26f41a22d13a",
   "metadata": {},
   "outputs": [
    {
     "name": "stdout",
     "output_type": "stream",
     "text": [
      "A distância entre os vetores é igual a  7.48\n"
     ]
    }
   ],
   "source": [
    "dist(u, v)"
   ]
  },
  {
   "cell_type": "code",
   "execution_count": 8,
   "id": "7c93a3c9-5aab-48ae-8c27-b17384aed182",
   "metadata": {},
   "outputs": [],
   "source": [
    "u = np.array([8,7])\n",
    "w = np.array([-2,5])"
   ]
  },
  {
   "cell_type": "code",
   "execution_count": 9,
   "id": "7e6a4092-7b18-4fb5-b70d-3a8cb6d62fdc",
   "metadata": {},
   "outputs": [],
   "source": [
    "s = list(map(lambda i, j: i + j, u, w))"
   ]
  },
  {
   "cell_type": "code",
   "execution_count": 10,
   "id": "d9a73a45-d768-4671-9e3b-c24e55b4b960",
   "metadata": {},
   "outputs": [
    {
     "data": {
      "text/plain": [
       "[6, 12]"
      ]
     },
     "execution_count": 10,
     "metadata": {},
     "output_type": "execute_result"
    }
   ],
   "source": [
    "s"
   ]
  },
  {
   "cell_type": "code",
   "execution_count": 16,
   "id": "b9a14caa-055b-4888-8597-5073e996bf8c",
   "metadata": {},
   "outputs": [
    {
     "data": {
      "image/png": "[encoded data removed]",
      "text/plain": [
       "<Figure size 400x300 with 1 Axes>"
      ]
     },
     "metadata": {},
     "output_type": "display_data"
    }
   ],
   "source": [
    "#Representação Geométrica\n",
    "plt.figure(figsize=(4, 3))\n",
    "v = np.vstack([u, w, s])\n",
    "comp = np.array([[0, 0, 0],[0, 0, 0]]) \n",
    "\n",
    "plt.quiver(*comp, v[:,0], v[:,1], color=['r','b', 'y'], scale=40)\n",
    "plt.show();"
   ]
  },
  {
   "cell_type": "code",
   "execution_count": null,
   "id": "efbe9b1f-fe3c-42a4-aac2-71c859663ec4",
   "metadata": {},
   "outputs": [],
   "source": []
  }
 ],
 "metadata": {
  "kernelspec": {
   "display_name": "Python 3 (ipykernel)",
   "language": "python",
   "name": "python3"
  },
  "language_info": {
   "codemirror_mode": {
    "name": "ipython",
    "version": 3
   },
   "file_extension": ".py",
   "mimetype": "text/x-python",
   "name": "python",
   "nbconvert_exporter": "python",
   "pygments_lexer": "ipython3",
   "version": "3.12.3"
  }
 },
 "nbformat": 4,
 "nbformat_minor": 5
}
